{
 "cells": [
  {
   "cell_type": "code",
   "execution_count": 1,
   "metadata": {},
   "outputs": [],
   "source": [
    "class Node:\n",
    "    def __init__(self,data):\n",
    "        self.data=data\n",
    "        self.next=None\n",
    "class Queue:\n",
    "    def __init__(self):\n",
    "        self.front=None\n",
    "        self.rear=None\n",
    "        \n",
    "    def enqueue(self,data):\n",
    "        node=Node(data)\n",
    "        if self.front==None and self.rear==None:\n",
    "            self.front=node\n",
    "            self.rear=node\n",
    "        else:\n",
    "            self.rear.next=node\n",
    "            self.rear=node\n",
    "            \n",
    "    def dequeue(self):\n",
    "        if self.front!=None and self.rear!=None:\n",
    "            p=self.front\n",
    "            self.front=self.front.next\n",
    "            p.next=None\n",
    "            \n",
    "    def printQueue(self):\n",
    "        p=self.front\n",
    "        while p!=None:\n",
    "            print(p.data,end=\" \")\n",
    "            p=p.next\n",
    "        print()"
   ]
  },
  {
   "cell_type": "code",
   "execution_count": 2,
   "metadata": {},
   "outputs": [
    {
     "name": "stdout",
     "output_type": "stream",
     "text": [
      "100 200 300 \n",
      "200 300 \n",
      "300 \n",
      "300 400 \n"
     ]
    }
   ],
   "source": [
    "q=Queue()\n",
    "q.enqueue(100)\n",
    "q.enqueue(200)\n",
    "q.enqueue(300)\n",
    "q.printQueue()\n",
    "q.dequeue()\n",
    "q.printQueue()\n",
    "q.dequeue()\n",
    "q.printQueue()\n",
    "q.enqueue(400)\n",
    "q.printQueue()"
   ]
  }
 ],
 "metadata": {
  "kernelspec": {
   "display_name": "Python 3",
   "language": "python",
   "name": "python3"
  },
  "language_info": {
   "codemirror_mode": {
    "name": "ipython",
    "version": 3
   },
   "file_extension": ".py",
   "mimetype": "text/x-python",
   "name": "python",
   "nbconvert_exporter": "python",
   "pygments_lexer": "ipython3",
   "version": "3.7.6"
  }
 },
 "nbformat": 4,
 "nbformat_minor": 4
}
