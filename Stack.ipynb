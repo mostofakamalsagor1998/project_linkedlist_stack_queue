{
 "cells": [
  {
   "cell_type": "markdown",
   "metadata": {},
   "source": [
    "<h1>Stack</h1>"
   ]
  },
  {
   "cell_type": "code",
   "execution_count": 1,
   "metadata": {},
   "outputs": [],
   "source": [
    "class StackNode:\n",
    "    def __init__(self,data):\n",
    "        self.data=data\n",
    "        self.next=None\n",
    "        \n",
    "class Stack:\n",
    "    def __init__(self):\n",
    "        self.top=None\n",
    "        self.size=5\n",
    "        \n",
    "    def push(self,data):\n",
    "        if self.size>0:\n",
    "            if self.top==None:\n",
    "                self.top=StackNode(data)\n",
    "            else:\n",
    "                p=self.top\n",
    "                self.top=StackNode(data)\n",
    "                self.top.next=p\n",
    "            self.size-=1\n",
    "        else:\n",
    "            return StackOverflowException()\n",
    "        \n",
    "    def pop(self):\n",
    "        if self.top==None:\n",
    "            return StackUnderflowException()\n",
    "        else:\n",
    "            removedItem=self.top.data\n",
    "            self.top=self.top.next\n",
    "            return removedItem\n",
    "        \n",
    "    def pick(self):\n",
    "        if self.top==None:\n",
    "            return self.top\n",
    "        else:\n",
    "            return self.top.data\n",
    "        \n",
    "    def printStack(self):\n",
    "        if self.top==None:\n",
    "            print(\"Empty Stack!!!\")\n",
    "        else:\n",
    "            p=self.top\n",
    "            while p!=None:\n",
    "                print(p.data,end=\" \")\n",
    "                p=p.next\n",
    "            print()\n",
    "\n",
    "class StackOverflowException:\n",
    "    def __init__(self):\n",
    "        print(\"Stack Overflow Exption!!!\")\n",
    "\n",
    "class StackUnderflowException:\n",
    "    def __init__(self):\n",
    "        print(\"Stack Underflow Exception\")\n",
    "    def __str__(self):\n",
    "        return \"None\""
   ]
  },
  {
   "cell_type": "code",
   "execution_count": 2,
   "metadata": {},
   "outputs": [
    {
     "name": "stdout",
     "output_type": "stream",
     "text": [
      "The top item: 10\n",
      "The top item: 20\n",
      "The top item: 30\n",
      "The top item: 40\n",
      "The top item: 50\n",
      "Stack Overflow Exption!!!\n",
      "50 40 30 20 10 \n",
      "Popped item: 50\n",
      "40 30 20 10 \n",
      "Popped item: 40\n",
      "30 20 10 \n",
      "Popped item: 30\n",
      "20 10 \n",
      "Popped item: 20\n",
      "10 \n",
      "Popped item: 10\n",
      "Empty Stack!!!\n",
      "Stack Underflow Exception\n",
      "Popped item: None\n",
      "Empty Stack!!!\n",
      "The top item: None\n"
     ]
    }
   ],
   "source": [
    "s=Stack()\n",
    "s.push(10)\n",
    "print(\"The top item:\",s.pick())\n",
    "s.push(20)\n",
    "print(\"The top item:\",s.pick())\n",
    "s.push(30)\n",
    "print(\"The top item:\",s.pick())\n",
    "s.push(40)\n",
    "print(\"The top item:\",s.pick())\n",
    "s.push(50)\n",
    "print(\"The top item:\",s.pick())\n",
    "s.push(60)\n",
    "s.printStack()\n",
    "print(\"Popped item:\",s.pop())\n",
    "s.printStack()\n",
    "print(\"Popped item:\",s.pop())\n",
    "s.printStack()\n",
    "print(\"Popped item:\",s.pop())\n",
    "s.printStack()\n",
    "print(\"Popped item:\",s.pop())\n",
    "s.printStack()\n",
    "print(\"Popped item:\",s.pop())\n",
    "s.printStack()\n",
    "print(\"Popped item:\",s.pop())\n",
    "s.printStack()\n",
    "print(\"The top item:\",s.pick())"
   ]
  }
 ],
 "metadata": {
  "kernelspec": {
   "display_name": "Python 3",
   "language": "python",
   "name": "python3"
  },
  "language_info": {
   "codemirror_mode": {
    "name": "ipython",
    "version": 3
   },
   "file_extension": ".py",
   "mimetype": "text/x-python",
   "name": "python",
   "nbconvert_exporter": "python",
   "pygments_lexer": "ipython3",
   "version": "3.7.6"
  }
 },
 "nbformat": 4,
 "nbformat_minor": 4
}
